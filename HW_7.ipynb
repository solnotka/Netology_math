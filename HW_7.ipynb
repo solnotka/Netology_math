{
 "cells": [
  {
   "cell_type": "markdown",
   "metadata": {
    "id": "T7ZzWaMVe71E"
   },
   "source": [
    "# Домашнее задание \"Теория вероятности. Дискретные Случайные Величины\"."
   ]
  },
  {
   "cell_type": "markdown",
   "metadata": {
    "id": "lanA1DNve73x"
   },
   "source": [
    "## Уровень 0:"
   ]
  },
  {
   "cell_type": "markdown",
   "metadata": {
    "id": "trLO6c0pfXRA"
   },
   "source": [
    "- Задание 1:"
   ]
  },
  {
   "cell_type": "markdown",
   "metadata": {
    "id": "1Fj_TgHpfXTP"
   },
   "source": [
    "Монетку подбрасывают 15 раз, найдите вероятность выпадения простого числа орлов."
   ]
  },
  {
   "cell_type": "code",
   "execution_count": 1,
   "metadata": {},
   "outputs": [],
   "source": [
    "from itertools import combinations"
   ]
  },
  {
   "cell_type": "code",
   "execution_count": 2,
   "metadata": {},
   "outputs": [],
   "source": [
    "# Функция для расчета вероятности по формуле Бернулли. \n",
    "def bernulli(n, m, p):\n",
    "    comb = len(list(combinations(range(n), m)))\n",
    "    q = 1 - p\n",
    "    return comb * (p ** m) * (q ** (n - m))"
   ]
  },
  {
   "cell_type": "code",
   "execution_count": 3,
   "metadata": {},
   "outputs": [],
   "source": [
    "# Функция для определения простоты числа\n",
    "def is_prime(n):\n",
    "    if n % 2 == 0 and n != 2 or n == 1:\n",
    "        return False\n",
    "    else:\n",
    "        for y in range(3, int(n ** .5) + 1, 2):\n",
    "            if n % y == 0:\n",
    "                return False\n",
    "    return True"
   ]
  },
  {
   "cell_type": "code",
   "execution_count": 4,
   "metadata": {},
   "outputs": [
    {
     "name": "stdout",
     "output_type": "stream",
     "text": [
      "Вероятность выпадения простого числа орлов равна 0.35.\n"
     ]
    }
   ],
   "source": [
    "# Чтобы найти общую вероятность, нужно сложить результаты применения формулы для каждого из нужных чисел.\n",
    "probability = 0\n",
    "for m in range(16):\n",
    "    if is_prime(m):\n",
    "        probability += bernulli(15, m, .5)\n",
    "\n",
    "print(f'Вероятность выпадения простого числа орлов равна {probability:.2f}.')"
   ]
  },
  {
   "cell_type": "markdown",
   "metadata": {
    "id": "uqHn2CtkfXVb"
   },
   "source": [
    "- Задание 2:"
   ]
  },
  {
   "cell_type": "markdown",
   "metadata": {
    "id": "dc5gqI8gfXXk"
   },
   "source": [
    "\n",
    "Создайте свою дискретную случайную величину с не менее, чем 10 значениями. Просемплируйте 1000 случайных значений, постройте гистограмму плотности распределения по выборке, посчитайте среднее, дисперсию и медиану."
   ]
  },
  {
   "cell_type": "code",
   "execution_count": 13,
   "metadata": {},
   "outputs": [],
   "source": [
    "import matplotlib.pyplot as plt\n",
    "import numpy as np\n",
    "import random"
   ]
  },
  {
   "cell_type": "code",
   "execution_count": 14,
   "metadata": {},
   "outputs": [
    {
     "data": {
      "text/plain": [
       "[2, 49, 27, 8, 31, 41, 20, 6, 25, 16]"
      ]
     },
     "execution_count": 14,
     "metadata": {},
     "output_type": "execute_result"
    }
   ],
   "source": [
    "my_random = random.sample(range(50), 10)\n",
    "my_random"
   ]
  },
  {
   "cell_type": "code",
   "execution_count": 33,
   "metadata": {},
   "outputs": [],
   "source": [
    "my_selection = np.random.choice(my_random, 1000)"
   ]
  },
  {
   "cell_type": "code",
   "execution_count": 34,
   "metadata": {},
   "outputs": [
    {
     "data": {
      "image/png": "[encoded data removed]",
      "text/plain": [
       "<Figure size 432x288 with 1 Axes>"
      ]
     },
     "metadata": {
      "needs_background": "light"
     },
     "output_type": "display_data"
    }
   ],
   "source": [
    "plt.subplot()\n",
    "plt.hist(my_selection)\n",
    "plt.xticks(my_random)\n",
    "plt.show()"
   ]
  },
  {
   "cell_type": "code",
   "execution_count": 36,
   "metadata": {},
   "outputs": [
    {
     "name": "stdout",
     "output_type": "stream",
     "text": [
      "Среднее значение: 22.309\n",
      "Дисперсия: 218.783519\n",
      "Медиана: 25.0\n"
     ]
    }
   ],
   "source": [
    "print(f'Среднее значение: {np.mean(my_selection)}')\n",
    "print(f'Дисперсия: {np.var(my_selection)}')\n",
    "print(f'Медиана: {np.median(my_selection)}')"
   ]
  },
  {
   "cell_type": "markdown",
   "metadata": {
    "id": "_6YnMFxzfS86"
   },
   "source": [
    "## Уровень 1:"
   ]
  },
  {
   "cell_type": "markdown",
   "metadata": {
    "id": "kCHPejMofn6b"
   },
   "source": [
    "- Задание 3:\n"
   ]
  },
  {
   "cell_type": "markdown",
   "metadata": {
    "id": "HfOQo_qkfmYC"
   },
   "source": [
    "Пусть брошены 3 уравновешенные монеты.\n",
    "\n",
    "Рассмотрим 3 события:\n",
    "\n",
    "A1 - монеты 1 и 2 упали одной и той же стороной;\n",
    "\n",
    "A2 - монеты 2 и 3 упали одной и той же стороной;\n",
    "\n",
    "A3 - монеты 1 и 3 упали одной и той же стороной.\n",
    "\n",
    "Покажите, почему эти 3 события (A1, A2, A3) являются попарно независимыми, но не являются независимыми в совокупности."
   ]
  },
  {
   "cell_type": "code",
   "execution_count": 51,
   "metadata": {},
   "outputs": [
    {
     "data": {
      "text/plain": [
       "(0, 1, 1)"
      ]
     },
     "execution_count": 51,
     "metadata": {},
     "output_type": "execute_result"
    }
   ],
   "source": [
    "# Достоверно независимыми являются результаты бросков каждой из трех монет.\n",
    "# В каждом из бросков с вероятностью 0.5 может выпасть орел (1) или решка (0)\n",
    "a_coin, b_coin, c_coin = np.random.choice([0, 1], 3)\n",
    "(a_coin, b_coin, c_coin)"
   ]
  },
  {
   "cell_type": "code",
   "execution_count": 54,
   "metadata": {},
   "outputs": [
    {
     "name": "stdout",
     "output_type": "stream",
     "text": [
      "Совокупная вероятность событий А1, А2, А3: 1.5\n",
      "Попарная вероятность событий А1, А2, А3: 1.0\n"
     ]
    }
   ],
   "source": [
    "# Вероятность наступления событий А1, А2 и А3 связана прежде всего с результатом броска второй монеты.\n",
    "# Первый бросок может дать любой результат, второй с вероятностью 0.5 совпадет с первым.\n",
    "p_A1 = p_A2 = p_A3 = 1 * .5\n",
    "\n",
    "# Совокупная вероятность трех событий больше единицы, что исключает их независимость\n",
    "print(f'Совокупная вероятность событий А1, А2, А3: {p_A1 + p_A2 + p_A3}')\n",
    "\n",
    "# Попарная вероятность событий при этом равна единице, т.е. они могут быть попарно независимыми.\n",
    "print(f'Попарная вероятность событий А1, А2, А3: {p_A1 + p_A2}')"
   ]
  },
  {
   "cell_type": "code",
   "execution_count": 52,
   "metadata": {},
   "outputs": [
    {
     "data": {
      "text/plain": [
       "(0, 1)"
      ]
     },
     "execution_count": 52,
     "metadata": {},
     "output_type": "execute_result"
    }
   ],
   "source": [
    "# Пусть брошены монета 1 и монета 2, т. е. наступило событие А1 или -А1.\n",
    "a_coin, b_coin = np.random.choice([0, 1], 2)\n",
    "(a_coin, b_coin)"
   ]
  },
  {
   "cell_type": "code",
   "execution_count": 53,
   "metadata": {},
   "outputs": [
    {
     "data": {
      "text/plain": [
       "1"
      ]
     },
     "execution_count": 53,
     "metadata": {},
     "output_type": "execute_result"
    }
   ],
   "source": [
    "# Тогда события А2 и А3 зависят только от броска 3-й монеты:\n",
    "# если она совпадет с 1-й, наступит событие А3, если со второй - событие А2.\n",
    "c_coin = np.random.choice([0, 1])\n",
    "c_coin\n",
    "# События попарно независимы."
   ]
  },
  {
   "cell_type": "code",
   "execution_count": 55,
   "metadata": {},
   "outputs": [
    {
     "data": {
      "text/plain": [
       "(1, 1, 0)"
      ]
     },
     "execution_count": 55,
     "metadata": {},
     "output_type": "execute_result"
    }
   ],
   "source": [
    "# Чтобы наступили два из трех событий (пусть это будут А1 и А2), нужно бросить все три монеты\n",
    "a_coin, b_coin, c_coin = np.random.choice([0, 1], 3)\n",
    "(a_coin, b_coin, c_coin)"
   ]
  },
  {
   "cell_type": "markdown",
   "metadata": {},
   "source": [
    "Этими бросками мы предопределяем наступление события А3: результаты бросков монет 1 и 3 уже известны, ничего изменить нельзя.\n",
    "Таким образом событие А3 является зависимым от событий А1 и А2, и любое из трех событий зависит от пары оставшихся.\n",
    "События не являются зависимыми в совокупности."
   ]
  },
  {
   "cell_type": "markdown",
   "metadata": {
    "id": "S29TzpYSfmaC"
   },
   "source": [
    "- Задание 4 (формула полной вероятности):\n"
   ]
  },
  {
   "cell_type": "markdown",
   "metadata": {
    "id": "tDprfzp-fmcP"
   },
   "source": [
    "В магазин привезли устройства с 3-х разных предприятий. \n",
    "\n",
    "Соотношение устройств следующее: 20% - продукция первого предприятия, 30% - продукция второго предприятия, 50% - продукция третьего предприятия; далее, 10% продукции первого предприятия высшего сорта, на втором предприятии - 5% и на третьем - 20% продукции высшего сорта. \n",
    "\n",
    "Найти вероятность того, что случайно купленная новая продукция окажется высшего сорта."
   ]
  },
  {
   "cell_type": "code",
   "execution_count": 63,
   "metadata": {},
   "outputs": [
    {
     "name": "stdout",
     "output_type": "stream",
     "text": [
      "Вероятность купить продукцию высшего качества составляет 0.135\n"
     ]
    }
   ],
   "source": [
    "# Для решения задачи необходимо перемножить вероятность выбора продукции определенной компании\n",
    "# с вероятностью получить продукцию высшего качества при выборе этой компании. Полученные результаты нужно сложить.\n",
    "p_companies = [.2, .3, .5]\n",
    "p_top_grade = [.1, .05, .2]\n",
    "\n",
    "p_high = sum(map(lambda x: x[0] * x[1], zip(p_companies, p_top_grade)))\n",
    "\n",
    "print(f'Вероятность купить продукцию высшего качества составляет {p_high}')"
   ]
  }
 ],
 "metadata": {
  "colab": {
   "name": "HW_7",
   "provenance": []
  },
  "kernelspec": {
   "display_name": "Python 3",
   "language": "python",
   "name": "python3"
  },
  "language_info": {
   "codemirror_mode": {
    "name": "ipython",
    "version": 3
   },
   "file_extension": ".py",
   "mimetype": "text/x-python",
   "name": "python",
   "nbconvert_exporter": "python",
   "pygments_lexer": "ipython3",
   "version": "3.9.4"
  }
 },
 "nbformat": 4,
 "nbformat_minor": 1
}
