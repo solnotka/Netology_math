{
 "cells": [
  {
   "cell_type": "code",
   "execution_count": 1,
   "id": "8cad8750",
   "metadata": {},
   "outputs": [],
   "source": [
    "import numpy as np"
   ]
  },
  {
   "cell_type": "code",
   "execution_count": 5,
   "id": "57c03aa3",
   "metadata": {},
   "outputs": [
    {
     "name": "stdout",
     "output_type": "stream",
     "text": [
      "2\n",
      "0.0\n",
      "3\n",
      "2.0\n",
      "4\n",
      "2.8284271247461903\n",
      "5\n",
      "3.4641016151377544\n",
      "6\n",
      "4.0\n",
      "7\n",
      "4.47213595499958\n",
      "8\n",
      "4.898979485566356\n",
      "9\n",
      "5.291502622129181\n"
     ]
    }
   ],
   "source": [
    "for i in range (2, 10):\n",
    "    print(i)\n",
    "    print(np.sqrt(4 * i - 8))"
   ]
  },
  {
   "cell_type": "code",
   "execution_count": 6,
   "id": "e6817c7c",
   "metadata": {},
   "outputs": [
    {
     "name": "stdout",
     "output_type": "stream",
     "text": [
      "-5\n",
      "nan\n",
      "-4\n",
      "nan\n",
      "-3\n",
      "nan\n",
      "-2\n",
      "nan\n",
      "-1\n",
      "1.0\n",
      "0\n",
      "1.4142135623730951\n",
      "1\n",
      "1.0\n",
      "2\n",
      "nan\n",
      "3\n",
      "nan\n",
      "4\n",
      "nan\n"
     ]
    },
    {
     "name": "stderr",
     "output_type": "stream",
     "text": [
      "<ipython-input-6-2236514e21d9>:3: RuntimeWarning: invalid value encountered in sqrt\n",
      "  print(np.sqrt(2 - i ** 2))\n"
     ]
    }
   ],
   "source": [
    "for i in range(-5, 5):\n",
    "    print(i)\n",
    "    print(np.sqrt(2 - i ** 2))"
   ]
  },
  {
   "cell_type": "code",
   "execution_count": 16,
   "id": "5345b3f3",
   "metadata": {},
   "outputs": [
    {
     "name": "stdout",
     "output_type": "stream",
     "text": [
      "-7\n",
      "-0.42857142857142855\n",
      "-6\n",
      "-0.5\n",
      "-5\n",
      "-0.6\n",
      "-4\n",
      "-0.75\n",
      "-3\n",
      "-1.0\n",
      "-2\n",
      "-1.5\n",
      "-1\n",
      "-3.0\n",
      "0\n",
      "Не получилось\n",
      "1\n",
      "3.0\n",
      "2\n",
      "1.5\n",
      "3\n",
      "1.0\n",
      "4\n",
      "0.75\n",
      "5\n",
      "0.6\n",
      "6\n",
      "0.5\n"
     ]
    }
   ],
   "source": [
    "for i in range(-7, 7):\n",
    "    print(i)\n",
    "    try:\n",
    "        print((3) / i)\n",
    "    except ZeroDivisionError:\n",
    "        print(\"Не получилось\")"
   ]
  },
  {
   "cell_type": "code",
   "execution_count": null,
   "id": "46cdbbb3",
   "metadata": {},
   "outputs": [],
   "source": []
  }
 ],
 "metadata": {
  "kernelspec": {
   "display_name": "Python 3",
   "language": "python",
   "name": "python3"
  },
  "language_info": {
   "codemirror_mode": {
    "name": "ipython",
    "version": 3
   },
   "file_extension": ".py",
   "mimetype": "text/x-python",
   "name": "python",
   "nbconvert_exporter": "python",
   "pygments_lexer": "ipython3",
   "version": "3.9.4"
  }
 },
 "nbformat": 4,
 "nbformat_minor": 5
}
