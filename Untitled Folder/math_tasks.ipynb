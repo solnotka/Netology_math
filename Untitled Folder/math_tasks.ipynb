{
 "cells": [
  {
   "cell_type": "code",
   "execution_count": 1,
   "id": "8cad8750",
   "metadata": {},
   "outputs": [],
   "source": [
    "import numpy as np"
   ]
  },
  {
   "cell_type": "code",
   "execution_count": 5,
   "id": "57c03aa3",
   "metadata": {},
   "outputs": [
    {
     "name": "stdout",
     "output_type": "stream",
     "text": [
      "2\n",
      "0.0\n",
      "3\n",
      "2.0\n",
      "4\n",
      "2.8284271247461903\n",
      "5\n",
      "3.4641016151377544\n",
      "6\n",
      "4.0\n",
      "7\n",
      "4.47213595499958\n",
      "8\n",
      "4.898979485566356\n",
      "9\n",
      "5.291502622129181\n"
     ]
    }
   ],
   "source": [
    "for i in range (2, 10):\n",
    "    print(i)\n",
    "    print(np.sqrt(4 * i - 8))"
   ]
  },
  {
   "cell_type": "code",
   "execution_count": 6,
   "id": "e6817c7c",
   "metadata": {},
   "outputs": [
    {
     "name": "stdout",
     "output_type": "stream",
     "text": [
      "-5\n",
      "nan\n",
      "-4\n",
      "nan\n",
      "-3\n",
      "nan\n",
      "-2\n",
      "nan\n",
      "-1\n",
      "1.0\n",
      "0\n",
      "1.4142135623730951\n",
      "1\n",
      "1.0\n",
      "2\n",
      "nan\n",
      "3\n",
      "nan\n",
      "4\n",
      "nan\n"
     ]
    },
    {
     "name": "stderr",
     "output_type": "stream",
     "text": [
      "<ipython-input-6-2236514e21d9>:3: RuntimeWarning: invalid value encountered in sqrt\n",
      "  print(np.sqrt(2 - i ** 2))\n"
     ]
    }
   ],
   "source": [
    "for i in range(-5, 5):\n",
    "    print(i)\n",
    "    print(np.sqrt(2 - i ** 2))"
   ]
  },
  {
   "cell_type": "code",
   "execution_count": 16,
   "id": "5345b3f3",
   "metadata": {},
   "outputs": [
    {
     "name": "stdout",
     "output_type": "stream",
     "text": [
      "-7\n",
      "-0.42857142857142855\n",
      "-6\n",
      "-0.5\n",
      "-5\n",
      "-0.6\n",
      "-4\n",
      "-0.75\n",
      "-3\n",
      "-1.0\n",
      "-2\n",
      "-1.5\n",
      "-1\n",
      "-3.0\n",
      "0\n",
      "Не получилось\n",
      "1\n",
      "3.0\n",
      "2\n",
      "1.5\n",
      "3\n",
      "1.0\n",
      "4\n",
      "0.75\n",
      "5\n",
      "0.6\n",
      "6\n",
      "0.5\n"
     ]
    }
   ],
   "source": [
    "for i in range(-7, 7):\n",
    "    print(i)\n",
    "    try:\n",
    "        print((3) / i)\n",
    "    except ZeroDivisionError:\n",
    "        print(\"Не получилось\")"
   ]
  },
  {
   "cell_type": "code",
   "execution_count": 2,
   "id": "46cdbbb3",
   "metadata": {},
   "outputs": [],
   "source": [
    "import numpy as np\n",
    "import matplotlib.pyplot as plt"
   ]
  },
  {
   "cell_type": "code",
   "execution_count": 23,
   "id": "38af4603",
   "metadata": {},
   "outputs": [
    {
     "name": "stderr",
     "output_type": "stream",
     "text": [
      "<ipython-input-23-285f4e7bae2c>:3: RuntimeWarning: invalid value encountered in log\n",
      "  x = [np.log(np.cos(n)) for n in y]\n"
     ]
    }
   ],
   "source": [
    "y = np.linspace(-5, 10, 1000)\n",
    "\n",
    "x = [np.log(np.cos(n)) for n in y]"
   ]
  },
  {
   "cell_type": "code",
   "execution_count": 24,
   "id": "504a86fd",
   "metadata": {},
   "outputs": [
    {
     "data": {
      "text/plain": [
       "[<matplotlib.lines.Line2D at 0x18d191e28e0>]"
      ]
     },
     "execution_count": 24,
     "metadata": {},
     "output_type": "execute_result"
    },
    {
     "data": {
      "image/png": "[encoded data removed]",
      "text/plain": [
       "<Figure size 432x288 with 1 Axes>"
      ]
     },
     "metadata": {
      "needs_background": "light"
     },
     "output_type": "display_data"
    }
   ],
   "source": [
    "plt.plot(y, x)"
   ]
  },
  {
   "cell_type": "code",
   "execution_count": 33,
   "id": "dfa15b37",
   "metadata": {},
   "outputs": [
    {
     "data": {
      "text/plain": [
       "9.205195609229179"
      ]
     },
     "execution_count": 33,
     "metadata": {},
     "output_type": "execute_result"
    }
   ],
   "source": [
    "2 * (np.e ** (np.pi / 2) - np.e ** (- np.pi / 2))"
   ]
  },
  {
   "cell_type": "code",
   "execution_count": 51,
   "id": "bdc9fd5c",
   "metadata": {},
   "outputs": [],
   "source": [
    "x = x1 =  np.linspace(0, 10, 1000)\n",
    "\n",
    "y = [np.sqrt(n) for n in x]"
   ]
  },
  {
   "cell_type": "code",
   "execution_count": 52,
   "id": "8a87431f",
   "metadata": {},
   "outputs": [
    {
     "data": {
      "text/plain": [
       "[<matplotlib.lines.Line2D at 0x18d1a6cd280>]"
      ]
     },
     "execution_count": 52,
     "metadata": {},
     "output_type": "execute_result"
    },
    {
     "data": {
      "image/png": "[encoded data removed]",
      "text/plain": [
       "<Figure size 432x288 with 1 Axes>"
      ]
     },
     "metadata": {
      "needs_background": "light"
     },
     "output_type": "display_data"
    }
   ],
   "source": [
    "plt.plot(x, y)"
   ]
  },
  {
   "cell_type": "code",
   "execution_count": 73,
   "id": "8c3f2e7d",
   "metadata": {},
   "outputs": [],
   "source": [
    "# Это я считаю приближенное значение интеграла методом трапеций\n",
    "x = np.linspace(0.4, 1.2, 144)\n",
    "y = [np.cos(round(n, 2)) / (round(n, 2) + 2) for n in x]"
   ]
  },
  {
   "cell_type": "code",
   "execution_count": 74,
   "id": "6e97e9de",
   "metadata": {},
   "outputs": [
    {
     "data": {
      "text/plain": [
       "0.222307198470415"
      ]
     },
     "execution_count": 74,
     "metadata": {},
     "output_type": "execute_result"
    }
   ],
   "source": [
    ".00625 * (sum(y[1:-1]) + ((y[0] + y[-1]) / 2))"
   ]
  },
  {
   "cell_type": "code",
   "execution_count": 103,
   "id": "c1a024d1",
   "metadata": {},
   "outputs": [
    {
     "name": "stdout",
     "output_type": "stream",
     "text": [
      "0.46628519781697814\n",
      "0.050000000000000044\n",
      "[0.6117243511864726, 0.6016355697463562, 0.5942357047370049, 0.588849838409873, 0.5849814025668697, 0.5822549232437186, 0.5803810000880093, 0.5791341254226489, 0.5783381433274137, 0.5778563257404531, 0.5775842381944161, 0.5774442619080653, 0.5773810636675627, 0.5773575764176937, 0.5773512314424801, 0.5773502992599546, 0.5773502691896258]\n"
     ]
    }
   ],
   "source": [
    "# Приближение методом Симпсона\n",
    "x = np.linspace(-0.8, 0, 17)\n",
    "h = round(x[1], 2) - round(x[0], 2)\n",
    "y = [1 / np.sqrt((3 + round(n, 2) ** 5)) for n in x]\n",
    "\n",
    "symp = y[0] + y[-1]\n",
    "for n in range(len(y) - 1):\n",
    "    if n == 0:\n",
    "        continue\n",
    "    elif n % 2 == 0:\n",
    "        symp += y[n] * 2\n",
    "    else:\n",
    "        symp += y[n] * 4\n",
    "print(symp * h / 3)\n",
    "print(h)\n",
    "print(y)"
   ]
  },
  {
   "cell_type": "code",
   "execution_count": 104,
   "id": "85f9df79",
   "metadata": {},
   "outputs": [
    {
     "name": "stdout",
     "output_type": "stream",
     "text": [
      "198.9007911574337\n",
      "1.0\n",
      "[3.4641016151377544, 5.5677643628300215, 8.246211251235321, 11.357816691600547, 14.832396974191326, 18.627936010197157, 22.715633383201094, 27.073972741361768, 31.68595903550972, 36.53765181289022, 41.617304093369626]\n"
     ]
    }
   ],
   "source": [
    "x = np.linspace(2, 12, 11)\n",
    "h = round(x[1], 2) - round(x[0], 2)\n",
    "y = [np.sqrt(4 + round(n, 2) ** 3) for n in x]\n",
    "\n",
    "symp = y[0] + y[-1]\n",
    "for n in range(len(y) - 1):\n",
    "    if n == 0:\n",
    "        continue\n",
    "    elif n % 2 == 0:\n",
    "        symp += y[n] * 2\n",
    "    else:\n",
    "        symp += y[n] * 4\n",
    "print(symp * h / 3)\n",
    "print(h)\n",
    "print(y)"
   ]
  },
  {
   "cell_type": "code",
   "execution_count": 121,
   "id": "d10ae3da",
   "metadata": {},
   "outputs": [
    {
     "name": "stdout",
     "output_type": "stream",
     "text": [
      "x = [1. 2. 3. 4. 5. 6. 7. 8. 9.]\n",
      "h = 1.0\n",
      "y = [1.0, 0.5, 0.3333333333333333, 0.25, 0.2, 0.16666666666666666, 0.14285714285714285, 0.125, 0.1111111111111111]\n",
      "answer is 2.7178571428571425\n"
     ]
    }
   ],
   "source": [
    "# Приближение методом левых прямоугольников\n",
    "x = np.linspace(1, 9, 9)\n",
    "print(f'x = {x}')\n",
    "      \n",
    "h = round(x[1], 2) - round(x[0], 2)\n",
    "print(f'h = {h}')\n",
    "\n",
    "y = [1 / round(n) for n in x]\n",
    "print(f'y = {y}')\n",
    "\n",
    "left_i = h * sum(y[:-1])\n",
    "print(f'answer is {h * sum(y[:-1])}')"
   ]
  },
  {
   "cell_type": "code",
   "execution_count": 122,
   "id": "987c9c8a",
   "metadata": {},
   "outputs": [
    {
     "name": "stdout",
     "output_type": "stream",
     "text": [
      "x = [1. 2. 3. 4. 5. 6. 7. 8. 9.]\n",
      "h = 1.0\n",
      "y = [1.0, 0.5, 0.3333333333333333, 0.25, 0.2, 0.16666666666666666, 0.14285714285714285, 0.125, 0.1111111111111111]\n",
      "answer is 1.828968253968254\n"
     ]
    }
   ],
   "source": [
    "# Приближение методом правых прямоугольников\n",
    "x = np.linspace(1, 9, 9)\n",
    "print(f'x = {x}')\n",
    "      \n",
    "h = round(x[1], 2) - round(x[0], 2)\n",
    "print(f'h = {h}')\n",
    "\n",
    "y = [1 / round(n) for n in x]\n",
    "print(f'y = {y}')\n",
    "\n",
    "right_i = h * sum(y[1:])\n",
    "\n",
    "print(f'answer is {h * sum(y[1:])}')"
   ]
  },
  {
   "cell_type": "code",
   "execution_count": 123,
   "id": "c185b1d4",
   "metadata": {},
   "outputs": [
    {
     "name": "stdout",
     "output_type": "stream",
     "text": [
      "x = [1. 2. 3. 4. 5. 6. 7. 8. 9.]\n",
      "h = 1.0\n",
      "x_shifted = [1.5, 2.5, 3.5, 4.5, 5.5, 6.5, 7.5, 8.5, 9.5]\n",
      "y = [0.6666666666666666, 0.4, 0.2857142857142857, 0.2222222222222222, 0.18181818181818182, 0.15384615384615385, 0.13333333333333333, 0.11764705882352941, 0.10526315789473684]\n",
      "answer is 2.1612479024243734\n"
     ]
    }
   ],
   "source": [
    "# Приближение методом средних прямоугольников\n",
    "x = np.linspace(1, 9, 9)\n",
    "print(f'x = {x}')\n",
    "\n",
    "h = round(x[1], 2) - round(x[0], 2)\n",
    "print(f'h = {h}')\n",
    "\n",
    "x_shifted = [n + h / 2 for n in x]\n",
    "print(f'x_shifted = {x_shifted}')\n",
    "\n",
    "y = [1 / n for n in x_shifted]\n",
    "print(f'y = {y}')\n",
    "\n",
    "middle_i = h * sum(y[:-1])\n",
    "print(f'answer is {h * sum(y[:-1])}')"
   ]
  },
  {
   "cell_type": "code",
   "execution_count": 125,
   "id": "f01a68d9",
   "metadata": {},
   "outputs": [
    {
     "name": "stdout",
     "output_type": "stream",
     "text": [
      "-0.520632565520923\n",
      "0.36825632336796565\n",
      "0.035976674911846196\n"
     ]
    }
   ],
   "source": [
    "abs_i = np.log(9)\n",
    "\n",
    "print(abs_i - left_i)\n",
    "print(abs_i - right_i)\n",
    "print(abs_i - middle_i)"
   ]
  },
  {
   "cell_type": "code",
   "execution_count": 133,
   "id": "fd2733d1",
   "metadata": {},
   "outputs": [
    {
     "data": {
      "text/plain": [
       "0.36787944117144233"
      ]
     },
     "execution_count": 133,
     "metadata": {},
     "output_type": "execute_result"
    }
   ],
   "source": [
    "# Приближенные вычисления с помощью рядов: e в -1\n",
    "abs_res = np.e ** (-1)\n",
    "abs_res"
   ]
  },
  {
   "cell_type": "code",
   "execution_count": 142,
   "id": "e4e24690",
   "metadata": {},
   "outputs": [
    {
     "name": "stdout",
     "output_type": "stream",
     "text": [
      "iteration 1, step -1.0, approx_res = 0.0\n",
      "iteration 2, step 0.5, approx_res = 0.5\n",
      "iteration 3, step -0.16666666666666666, approx_res = 0.33333333333333337\n",
      "iteration 4, step 0.041666666666666664, approx_res = 0.37500000000000006\n",
      "iteration 5, step -0.008333333333333333, approx_res = 0.3666666666666667\n",
      "iteration 6, step 0.001388888888888889, approx_res = 0.3680555555555556\n",
      "iteration 7, step -0.0001984126984126984, approx_res = 0.3678571428571429\n"
     ]
    }
   ],
   "source": [
    "approx_res = 1\n",
    "n = 1\n",
    "while abs(abs_res - approx_res) >= 0.001:\n",
    "    approx_res += (((- 1) ** n) / np.math.factorial(n))\n",
    "    print(f'iteration {n}, step {((- 1) ** n) / np.math.factorial(n)}, approx_res = {approx_res}')\n",
    "    n += 1\n",
    "else:\n",
    "    approx_res += (((- 1) ** n) / np.math.factorial(n))\n",
    "    print(f'iteration {n}, step {((- 1) ** n) / np.math.factorial(n)}, approx_res = {approx_res}')"
   ]
  },
  {
   "cell_type": "code",
   "execution_count": 148,
   "id": "ffb4e10a",
   "metadata": {},
   "outputs": [
    {
     "name": "stdout",
     "output_type": "stream",
     "text": [
      "0.9800665778412416\n",
      "iteration 1, step -0.020000000000000004, approx_res = 0.98\n",
      "iteration 2, step 6.666666666666668e-05, approx_res = 0.9800666666666666\n",
      "-8.882542501531532e-08\n"
     ]
    }
   ],
   "source": [
    "# Приближенные вычисления с помощью рядов: cos 0.2\n",
    "abs_res = np.cos(.2)\n",
    "print(abs_res)\n",
    "\n",
    "approx_res = 1\n",
    "n = 1\n",
    "\n",
    "while n < 3:\n",
    "    step = ((- 1) ** n) * (.2 ** (2 * n)) / np.math.factorial(2 * n)\n",
    "    approx_res += step\n",
    "    print(f'iteration {n}, step {step}, approx_res = {approx_res}')\n",
    "    n += 1\n",
    "print(abs_res - approx_res)"
   ]
  },
  {
   "cell_type": "code",
   "execution_count": 157,
   "id": "a9e67279",
   "metadata": {},
   "outputs": [
    {
     "name": "stdout",
     "output_type": "stream",
     "text": [
      "0.25819888974716115\n",
      "iteration 1, step 0.03125, approx_res = 0.2578125\n",
      "iteration 2, step 0.00146484375, approx_res = 0.2581787109375\n",
      "iteration 3, step 7.62939453125e-05, approx_res = 0.2581977844238281\n",
      "1.1053e-06\n"
     ]
    }
   ],
   "source": [
    "# Приближенные вычисления с помощью рядов: 1 / np.sqrt(15)\n",
    "abs_res = 15 ** (- .5)\n",
    "print(abs_res)\n",
    "\n",
    "approx_res = 1\n",
    "n = 1\n",
    "pre_step = 1\n",
    "\n",
    "while n < 4:\n",
    "    pre_step *= (2 * n - 1) / (2 * n)\n",
    "    step = pre_step * ((1 / 16) ** n)\n",
    "    approx_res += step\n",
    "    print(f'iteration {n}, step {step}, approx_res = {approx_res * .25}')\n",
    "    n += 1\n",
    "print(round(abs_res - approx_res * .25, 10))"
   ]
  },
  {
   "cell_type": "code",
   "execution_count": 176,
   "id": "ad0a8941",
   "metadata": {},
   "outputs": [
    {
     "name": "stdout",
     "output_type": "stream",
     "text": [
      "0.7884573603642703\n",
      "iteration 1, step 0.375, approx_res = 0.75\n",
      "iteration 2, step 0.017578125, approx_res = 0.78515625\n",
      "iteration 3, step 0.001483154296875, approx_res = 0.78812255859375\n",
      "iteration 4, step 0.00014897755214146206, approx_res = 0.7884205136980329\n",
      "iteration 5, step 1.6294419765472412e-05, approx_res = 0.7884531025375638\n",
      "0.7884531025375638\n",
      "4.79944727637551e-05\n"
     ]
    }
   ],
   "source": [
    "# Приближенные вычисления с помощью рядов: натуральный логарифм 2,2\n",
    "abs_res = np.log(2.2)\n",
    "print(abs_res)\n",
    "\n",
    "x = 3 / 8\n",
    "\n",
    "approx_res = 0\n",
    "n = 1\n",
    "\n",
    "while n < 6:\n",
    "    step = x ** (2 * n - 1) / (2 * n - 1)\n",
    "    approx_res += step\n",
    "    print(f'iteration {n}, step {step}, approx_res = {approx_res * 2}')\n",
    "    n += 1\n",
    "\n",
    "approx_res *= 2\n",
    "prog = 1 / (55 / 64) * 2 * ((3 / 8) ** 11)\n",
    "print(approx_res)\n",
    "print(prog)"
   ]
  },
  {
   "cell_type": "code",
   "execution_count": null,
   "id": "475d4fe9",
   "metadata": {},
   "outputs": [],
   "source": []
  }
 ],
 "metadata": {
  "kernelspec": {
   "display_name": "Python 3",
   "language": "python",
   "name": "python3"
  },
  "language_info": {
   "codemirror_mode": {
    "name": "ipython",
    "version": 3
   },
   "file_extension": ".py",
   "mimetype": "text/x-python",
   "name": "python",
   "nbconvert_exporter": "python",
   "pygments_lexer": "ipython3",
   "version": "3.9.4"
  }
 },
 "nbformat": 4,
 "nbformat_minor": 5
}
